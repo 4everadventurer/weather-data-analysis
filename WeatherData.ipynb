{
 "cells": [
  {
   "cell_type": "code",
   "execution_count": 3,
   "metadata": {},
   "outputs": [
    {
     "name": "stdout",
     "output_type": "stream",
     "text": [
      "응답 상태 코드: 200\n",
      "데이터 키 목록: dict_keys(['latitude', 'longitude', 'generationtime_ms', 'utc_offset_seconds', 'timezone', 'timezone_abbreviation', 'elevation', 'hourly_units', 'hourly'])\n",
      "               time  temperature\n",
      "0  2025-05-05T00:00         14.2\n",
      "1  2025-05-05T01:00         13.9\n",
      "2  2025-05-05T02:00         13.8\n",
      "3  2025-05-05T03:00         13.3\n",
      "4  2025-05-05T04:00         13.3\n"
     ]
    }
   ],
   "source": [
    "import requests\n",
    "import pandas as pd\n",
    "\n",
    "latitude = 32.7157\n",
    "longitude = -117.1611\n",
    "\n",
    "url = f\"https://api.open-meteo.com/v1/forecast?latitude={latitude}&longitude={longitude}&hourly=temperature_2m\"\n",
    "\n",
    "response = requests.get(url)\n",
    "print(\"응답 상태 코드:\", response.status_code)  # 응답 상태 확인\n",
    "\n",
    "data = response.json()\n",
    "print(\"데이터 키 목록:\", data.keys())         # 받아온 데이터 키 확인\n",
    "\n",
    "df = pd.DataFrame({\n",
    "    \"time\": data[\"hourly\"][\"time\"],\n",
    "    \"temperature\": data[\"hourly\"][\"temperature_2m\"]\n",
    "})\n",
    "\n",
    "print(df.head())  # 첫 5줄 출력\n",
    "\n"
   ]
  },
  {
   "cell_type": "code",
   "execution_count": null,
   "metadata": {},
   "outputs": [],
   "source": []
  }
 ],
 "metadata": {
  "kernelspec": {
   "display_name": "Python 3 (ipykernel)",
   "language": "python",
   "name": "python3"
  },
  "language_info": {
   "codemirror_mode": {
    "name": "ipython",
    "version": 3
   },
   "file_extension": ".py",
   "mimetype": "text/x-python",
   "name": "python",
   "nbconvert_exporter": "python",
   "pygments_lexer": "ipython3",
   "version": "3.12.7"
  }
 },
 "nbformat": 4,
 "nbformat_minor": 4
}
